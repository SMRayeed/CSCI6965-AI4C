{
  "cells": [
    {
      "cell_type": "code",
      "execution_count": 1,
      "metadata": {
        "id": "nwH8V53-Xdrj"
      },
      "outputs": [],
      "source": [
        "import torch\n",
        "from torch.utils.data import DataLoader\n",
        "from torchvision import datasets\n",
        "from torchvision.transforms import ToTensor"
      ]
    },
    {
      "cell_type": "code",
      "execution_count": 2,
      "metadata": {
        "id": "-15grAYfXlix"
      },
      "outputs": [],
      "source": [
        "training_data = datasets.FashionMNIST(\n",
        "    root=\"data\",\n",
        "    train=True,\n",
        "    download=True,\n",
        "    transform=ToTensor()\n",
        "    )"
      ]
    },
    {
      "cell_type": "code",
      "execution_count": 3,
      "metadata": {
        "id": "YbFqMju9XlaA"
      },
      "outputs": [],
      "source": [
        "test_data = datasets.FashionMNIST(\n",
        "    root=\"data\",\n",
        "    train=False,\n",
        "    download=True,\n",
        "    transform=ToTensor()\n",
        "    )"
      ]
    },
    {
      "cell_type": "code",
      "execution_count": 4,
      "metadata": {
        "id": "ltapdbFZX0HA"
      },
      "outputs": [],
      "source": [
        "batch_size = 32"
      ]
    },
    {
      "cell_type": "code",
      "execution_count": 5,
      "metadata": {
        "id": "WxplxTkyX6_Z"
      },
      "outputs": [],
      "source": [
        "train_dataloader = DataLoader(training_data, batch_size=batch_size)\n",
        "test_dataloader = DataLoader(test_data, batch_size=batch_size)"
      ]
    },
    {
      "cell_type": "code",
      "execution_count": 6,
      "metadata": {
        "colab": {
          "base_uri": "https://localhost:8080/"
        },
        "id": "259oVXLLX3lI",
        "outputId": "481954b5-10f9-49ca-a48e-c50828bb80ad"
      },
      "outputs": [
        {
          "output_type": "stream",
          "name": "stdout",
          "text": [
            "Shape of X [N, C, H, W]: torch.Size([32, 1, 28, 28])\n",
            "Shape of y: torch.Size([32]) torch.int64\n"
          ]
        }
      ],
      "source": [
        "for X, y in train_dataloader:\n",
        "    print(f\"Shape of X [N, C, H, W]: {X.shape}\")\n",
        "    print(f\"Shape of y: {y.shape} {y.dtype}\")\n",
        "    break\n"
      ]
    },
    {
      "cell_type": "code",
      "execution_count": 7,
      "metadata": {
        "colab": {
          "base_uri": "https://localhost:8080/"
        },
        "id": "rSKZlx2-X-2M",
        "outputId": "7dd085d1-2ba5-4f32-a490-d30d591c6151"
      },
      "outputs": [
        {
          "output_type": "stream",
          "name": "stdout",
          "text": [
            "Shape of X [N, C, H, W]: torch.Size([32, 1, 28, 28])\n",
            "Shape of y: torch.Size([32]) torch.int64\n"
          ]
        }
      ],
      "source": [
        "for X, y in test_dataloader:\n",
        "    print(f\"Shape of X [N, C, H, W]: {X.shape}\")\n",
        "    print(f\"Shape of y: {y.shape} {y.dtype}\")\n",
        "    break"
      ]
    },
    {
      "cell_type": "code",
      "execution_count": 8,
      "metadata": {
        "colab": {
          "base_uri": "https://localhost:8080/",
          "height": 1000
        },
        "id": "DTPCwst0YBLc",
        "outputId": "de4d5ef1-d581-4fc6-ea2d-c4195b7269af"
      },
      "outputs": [
        {
          "output_type": "stream",
          "name": "stdout",
          "text": [
            "------------------------------------------------------\n",
            "Image 0 in the minibatch\n",
            "Image dimensions: (28, 28)\n",
            "Intensity range is (0.0, 1.0) and data type is float32\n",
            "Label 9\n",
            "------------------------------------------------------\n",
            "Image 1 in the minibatch\n",
            "Image dimensions: (28, 28)\n",
            "Intensity range is (0.0, 1.0) and data type is float32\n",
            "Label 2\n",
            "------------------------------------------------------\n",
            "Image 2 in the minibatch\n",
            "Image dimensions: (28, 28)\n",
            "Intensity range is (0.0, 1.0) and data type is float32\n",
            "Label 1\n",
            "------------------------------------------------------\n",
            "Image 3 in the minibatch\n",
            "Image dimensions: (28, 28)\n",
            "Intensity range is (0.0, 1.0) and data type is float32\n",
            "Label 1\n",
            "------------------------------------------------------\n",
            "Image 4 in the minibatch\n",
            "Image dimensions: (28, 28)\n",
            "Intensity range is (0.0, 1.0) and data type is float32\n",
            "Label 6\n",
            "------------------------------------------------------\n",
            "Image 5 in the minibatch\n",
            "Image dimensions: (28, 28)\n",
            "Intensity range is (0.0, 1.0) and data type is float32\n",
            "Label 1\n",
            "------------------------------------------------------\n",
            "Image 6 in the minibatch\n",
            "Image dimensions: (28, 28)\n",
            "Intensity range is (0.0, 1.0) and data type is float32\n",
            "Label 4\n",
            "------------------------------------------------------\n",
            "Image 7 in the minibatch\n",
            "Image dimensions: (28, 28)\n",
            "Intensity range is (0.0, 1.0) and data type is float32\n",
            "Label 6\n"
          ]
        },
        {
          "output_type": "display_data",
          "data": {
            "text/plain": [
              "<Figure size 640x480 with 8 Axes>"
            ],
            "image/png": "[encoded data removed]"
          },
          "metadata": {}
        }
      ],
      "source": [
        "import numpy as np\n",
        "import matplotlib.pyplot as plt\n",
        "\n",
        "for i in range(8):\n",
        "    print('-' * 54)\n",
        "    print(f'Image {i} in the minibatch')\n",
        "    img = X[i,0,:, :].numpy()\n",
        "    print(f'Image dimensions: {img.shape}')\n",
        "    print(f'Intensity range is ({round(np.min(img),2)}, {round(np.max(img),2)}) and data type is {img.dtype}')\n",
        "    plt.subplot(2, 4, i+1)\n",
        "    plt.imshow(img, cmap='gray')\n",
        "    print(f'Label {y[i]}')\n",
        "\n",
        "plt.show()"
      ]
    },
    {
      "cell_type": "markdown",
      "source": [
        "### Task 01 : Sample distribution (number of images of each class in training and test data)\n"
      ],
      "metadata": {
        "id": "iGr0fNJdBtqz"
      }
    },
    {
      "cell_type": "code",
      "source": [
        "def sample_distribution(dataset):\n",
        "    class_count = [0] * len(dataset.classes)\n",
        "\n",
        "    for _, label in dataset:\n",
        "      class_count[label] += 1\n",
        "\n",
        "    for class_idx, class_name in enumerate(dataset.classes):\n",
        "        print(f\"Class {class_name}: {class_count[class_idx]} Samples\")"
      ],
      "metadata": {
        "id": "Utf4m_CW9nLT"
      },
      "execution_count": 9,
      "outputs": []
    },
    {
      "cell_type": "code",
      "source": [
        "print(f\"Sample Distribution for : Training Data\\n\",'-'*len(\"Sample Distribution for : Training Data\"),sep='')\n",
        "sample_distribution(training_data)"
      ],
      "metadata": {
        "colab": {
          "base_uri": "https://localhost:8080/"
        },
        "id": "wTqi_jPCEdKD",
        "outputId": "5669c9e4-99f1-4cbd-c984-cc6bebf2a447"
      },
      "execution_count": 10,
      "outputs": [
        {
          "output_type": "stream",
          "name": "stdout",
          "text": [
            "Sample Distribution for : Training Data\n",
            "---------------------------------------\n",
            "Class T-shirt/top: 6000 Samples\n",
            "Class Trouser: 6000 Samples\n",
            "Class Pullover: 6000 Samples\n",
            "Class Dress: 6000 Samples\n",
            "Class Coat: 6000 Samples\n",
            "Class Sandal: 6000 Samples\n",
            "Class Shirt: 6000 Samples\n",
            "Class Sneaker: 6000 Samples\n",
            "Class Bag: 6000 Samples\n",
            "Class Ankle boot: 6000 Samples\n"
          ]
        }
      ]
    },
    {
      "cell_type": "code",
      "source": [
        "print(f\"Sample Distribution for : Testing Data\\n\",'-'*len(\"Sample Distribution for : Testing Data\"),sep='')\n",
        "sample_distribution(test_data)"
      ],
      "metadata": {
        "colab": {
          "base_uri": "https://localhost:8080/"
        },
        "id": "l2G0HK2FEfrn",
        "outputId": "bba9af72-e817-4601-d2ae-0bf49a9f5647"
      },
      "execution_count": 11,
      "outputs": [
        {
          "output_type": "stream",
          "name": "stdout",
          "text": [
            "Sample Distribution for : Testing Data\n",
            "--------------------------------------\n",
            "Class T-shirt/top: 1000 Samples\n",
            "Class Trouser: 1000 Samples\n",
            "Class Pullover: 1000 Samples\n",
            "Class Dress: 1000 Samples\n",
            "Class Coat: 1000 Samples\n",
            "Class Sandal: 1000 Samples\n",
            "Class Shirt: 1000 Samples\n",
            "Class Sneaker: 1000 Samples\n",
            "Class Bag: 1000 Samples\n",
            "Class Ankle boot: 1000 Samples\n"
          ]
        }
      ]
    },
    {
      "cell_type": "markdown",
      "source": [
        "#### Using Dictionary"
      ],
      "metadata": {
        "id": "ntw5eCmvEnND"
      }
    },
    {
      "cell_type": "code",
      "source": [
        "train_total = 0\n",
        "train_counter_dict = {0:0, 1:0, 2:0, 3:0, 4:0, 5:0, 6:0, 7:0, 8:0, 9:0}"
      ],
      "metadata": {
        "id": "UxEoIDlpC4jA"
      },
      "execution_count": 12,
      "outputs": []
    },
    {
      "cell_type": "code",
      "source": [
        "for data in train_dataloader:\n",
        "    Xs, ys = data\n",
        "    for y in ys:\n",
        "        train_counter_dict[int(y)] += 1\n",
        "        train_total += 1"
      ],
      "metadata": {
        "id": "U0FESmksAXt_"
      },
      "execution_count": 13,
      "outputs": []
    },
    {
      "cell_type": "code",
      "source": [
        "heading1 = \"Sample Distribution : Training Data\"\n",
        "x1 = len(heading1)\n",
        "print(heading1,\"\\n\",'-'*x1,sep='')\n",
        "\n",
        "for class_label, count in train_counter_dict.items():\n",
        "    print(f'Class {class_label} : {count} Samples')"
      ],
      "metadata": {
        "colab": {
          "base_uri": "https://localhost:8080/"
        },
        "id": "Svw7ym5jCxUv",
        "outputId": "66efd47e-b3bb-4faa-f5a0-272b904566c8"
      },
      "execution_count": 14,
      "outputs": [
        {
          "output_type": "stream",
          "name": "stdout",
          "text": [
            "Sample Distribution : Training Data\n",
            "-----------------------------------\n",
            "Class 0 : 6000 Samples\n",
            "Class 1 : 6000 Samples\n",
            "Class 2 : 6000 Samples\n",
            "Class 3 : 6000 Samples\n",
            "Class 4 : 6000 Samples\n",
            "Class 5 : 6000 Samples\n",
            "Class 6 : 6000 Samples\n",
            "Class 7 : 6000 Samples\n",
            "Class 8 : 6000 Samples\n",
            "Class 9 : 6000 Samples\n"
          ]
        }
      ]
    },
    {
      "cell_type": "code",
      "source": [
        "test_total = 0\n",
        "test_counter_dict = {0:0, 1:0, 2:0, 3:0, 4:0, 5:0, 6:0, 7:0, 8:0, 9:0}"
      ],
      "metadata": {
        "id": "_tMQPfTQAYxV"
      },
      "execution_count": 15,
      "outputs": []
    },
    {
      "cell_type": "code",
      "source": [
        "for data in test_dataloader:\n",
        "    Xs, ys = data\n",
        "    for y in ys:\n",
        "        test_counter_dict[int(y)] += 1\n",
        "        test_total += 1"
      ],
      "metadata": {
        "id": "K7M-sD6_C-nz"
      },
      "execution_count": 16,
      "outputs": []
    },
    {
      "cell_type": "code",
      "source": [
        "heading2 = \"Sample Distribution : Testing Data\"\n",
        "x2 = len(heading2)\n",
        "print(heading2,\"\\n\",'-'*x2,sep='')\n",
        "\n",
        "for class_label, count in test_counter_dict.items():\n",
        "    print(f'Class {class_label} : {count} Samples')"
      ],
      "metadata": {
        "colab": {
          "base_uri": "https://localhost:8080/"
        },
        "id": "UvIDMsUnDBAq",
        "outputId": "1bf6fc13-b295-4a38-c12f-2421f2d7aab4"
      },
      "execution_count": 17,
      "outputs": [
        {
          "output_type": "stream",
          "name": "stdout",
          "text": [
            "Sample Distribution : Testing Data\n",
            "----------------------------------\n",
            "Class 0 : 1000 Samples\n",
            "Class 1 : 1000 Samples\n",
            "Class 2 : 1000 Samples\n",
            "Class 3 : 1000 Samples\n",
            "Class 4 : 1000 Samples\n",
            "Class 5 : 1000 Samples\n",
            "Class 6 : 1000 Samples\n",
            "Class 7 : 1000 Samples\n",
            "Class 8 : 1000 Samples\n",
            "Class 9 : 1000 Samples\n"
          ]
        }
      ]
    },
    {
      "cell_type": "markdown",
      "source": [
        "### Network + Training"
      ],
      "metadata": {
        "id": "wiOk9tqQHYBQ"
      }
    },
    {
      "cell_type": "code",
      "execution_count": 18,
      "metadata": {
        "id": "SxgcxAX-Z2vo"
      },
      "outputs": [],
      "source": [
        "import torch.nn as nn\n",
        "import torch.nn.functional as F"
      ]
    },
    {
      "cell_type": "code",
      "execution_count": 19,
      "metadata": {
        "id": "0xG3P4KIaAJz"
      },
      "outputs": [],
      "source": [
        "class Neu_Net(nn.Module):\n",
        "\n",
        "    def __init__(self):\n",
        "        super().__init__()\n",
        "        self.conv1 = nn.Conv2d(1, 32, 3)\n",
        "        self.pool1 = nn.MaxPool2d(2, 2)\n",
        "        self.conv2 = nn.Conv2d(32, 64, 3)\n",
        "        self.pool2 = nn.MaxPool2d(2, 2)\n",
        "        self.fc1 = nn.Linear(64 * 5 * 5, 128)\n",
        "        self.fc2 = nn.Linear(128, 10)\n",
        "        self.dropout1 = nn.Dropout(0.25)\n",
        "        self.dropout2 = nn.Dropout(0.25)\n",
        "\n",
        "    def forward(self, x):\n",
        "        x = self.pool1(F.relu(self.conv1(x)))\n",
        "        x = self.dropout1(x)\n",
        "        x = self.pool2(F.relu(self.conv2(x)))\n",
        "        x = x.view(-1, 64*5*5)\n",
        "        x = F.relu(self.fc1(x))\n",
        "        x = self.dropout2(x)\n",
        "        x = self.fc2(x)\n",
        "        return F.log_softmax(x, dim=1)\n"
      ]
    },
    {
      "cell_type": "code",
      "execution_count": 20,
      "metadata": {
        "colab": {
          "base_uri": "https://localhost:8080/"
        },
        "id": "Io_81xf0ydid",
        "outputId": "da06a4f7-33c0-4b22-9d9f-f146842d5366"
      },
      "outputs": [
        {
          "output_type": "stream",
          "name": "stdout",
          "text": [
            "Using cuda device\n"
          ]
        }
      ],
      "source": [
        "device = \"cuda\" if torch.cuda.is_available() else \"cpu\"\n",
        "print(f\"Using {device} device\")"
      ]
    },
    {
      "cell_type": "code",
      "execution_count": 21,
      "metadata": {
        "id": "uQ_Qp5Q3ygvm"
      },
      "outputs": [],
      "source": [
        "model = Neu_Net().to(device)"
      ]
    },
    {
      "cell_type": "code",
      "execution_count": 22,
      "metadata": {
        "colab": {
          "base_uri": "https://localhost:8080/"
        },
        "id": "tvHHhhIqyVPO",
        "outputId": "b4caeff1-7d4a-4274-a8d7-c57b8f86342e"
      },
      "outputs": [
        {
          "output_type": "stream",
          "name": "stdout",
          "text": [
            "Neu_Net(\n",
            "  (conv1): Conv2d(1, 32, kernel_size=(3, 3), stride=(1, 1))\n",
            "  (pool1): MaxPool2d(kernel_size=2, stride=2, padding=0, dilation=1, ceil_mode=False)\n",
            "  (conv2): Conv2d(32, 64, kernel_size=(3, 3), stride=(1, 1))\n",
            "  (pool2): MaxPool2d(kernel_size=2, stride=2, padding=0, dilation=1, ceil_mode=False)\n",
            "  (fc1): Linear(in_features=1600, out_features=128, bias=True)\n",
            "  (fc2): Linear(in_features=128, out_features=10, bias=True)\n",
            "  (dropout1): Dropout(p=0.25, inplace=False)\n",
            "  (dropout2): Dropout(p=0.25, inplace=False)\n",
            ")\n",
            "torch.Size([32, 1, 3, 3])\n",
            "torch.Size([32])\n",
            "torch.Size([64, 32, 3, 3])\n",
            "torch.Size([64])\n",
            "torch.Size([128, 1600])\n",
            "torch.Size([128])\n",
            "torch.Size([10, 128])\n",
            "torch.Size([10])\n"
          ]
        }
      ],
      "source": [
        "print(model)\n",
        "for p in model.parameters():\n",
        "    print(p.size())"
      ]
    },
    {
      "cell_type": "code",
      "execution_count": 23,
      "metadata": {
        "id": "ZXYpKb7VcYsI"
      },
      "outputs": [],
      "source": [
        "import torch.optim as optim\n",
        "\n",
        "loss_function = nn.CrossEntropyLoss()\n",
        "optimizer = optim.Adam(model.parameters(), lr=0.001, betas=(0.9, 0.999), weight_decay=0.0001)"
      ]
    },
    {
      "cell_type": "code",
      "execution_count": 24,
      "metadata": {
        "id": "N0Sw_U24y4XL"
      },
      "outputs": [],
      "source": [
        "def train(dataloader, model, loss_fn, optimizer):\n",
        "    size = len(dataloader.dataset)\n",
        "    model.train()\n",
        "    for batch, (X, y) in enumerate(dataloader):\n",
        "        X, y = X.to(device), y.to(device)\n",
        "\n",
        "        pred = model(X)\n",
        "        loss = loss_fn(pred, y)\n",
        "\n",
        "        optimizer.zero_grad()\n",
        "        loss.backward()\n",
        "        optimizer.step()\n",
        "\n",
        "        if batch % 100 == 0:\n",
        "            loss, current = loss.item(), batch * len(X)\n",
        "            print(f\"loss: {loss:>7f}  [{current:>5d}/{size:>5d}]\")"
      ]
    },
    {
      "cell_type": "code",
      "execution_count": 25,
      "metadata": {
        "id": "H4NhcKTVy6F_"
      },
      "outputs": [],
      "source": [
        "def test(dataloader, model, loss_fn):\n",
        "    size = len(dataloader.dataset)\n",
        "    num_batches = len(dataloader)\n",
        "    model.eval()\n",
        "    test_loss, correct = 0, 0\n",
        "    with torch.no_grad():\n",
        "        for X, y in dataloader:\n",
        "            X, y = X.to(device), y.to(device)\n",
        "            pred = model(X)\n",
        "            test_loss += loss_fn(pred, y).item()\n",
        "            correct += (pred.argmax(1) == y).type(torch.float).sum().item()\n",
        "    test_loss /= num_batches\n",
        "    correct /= size\n",
        "    print(f\"Test Results : \\n Accuracy: {(100*correct):>0.2f}%, Avg. Loss: {test_loss:>8f} \\n\")\n",
        "\n",
        "    return test_loss, correct"
      ]
    },
    {
      "cell_type": "code",
      "source": [
        "epochs = 10"
      ],
      "metadata": {
        "id": "iHp8Bv7vFpsi"
      },
      "execution_count": 26,
      "outputs": []
    },
    {
      "cell_type": "code",
      "source": [
        "best_accuracy = 0.0\n",
        "best_model_weights = None"
      ],
      "metadata": {
        "id": "Mi7P_4bv_Srw"
      },
      "execution_count": 27,
      "outputs": []
    },
    {
      "cell_type": "markdown",
      "source": [
        "#### Task 02 : Track Best Model : Output a message each time a new best model is found\n"
      ],
      "metadata": {
        "id": "zeZYg-tIj9KX"
      }
    },
    {
      "cell_type": "code",
      "source": [
        "for t in range(epochs):\n",
        "    print(f\"Epoch {t+1}\\n-----------------------------\")\n",
        "    train(train_dataloader, model, loss_function, optimizer)\n",
        "    test_loss, test_accuracy = test(test_dataloader, model, loss_function)\n",
        "\n",
        "    if test_accuracy > best_accuracy:\n",
        "        best_accuracy = test_accuracy\n",
        "        best_model_weights = model.state_dict()\n",
        "        print(\"New Best Model Found!\\n\",'='*len(\"New Best Model Found!\"),sep='')\n",
        "        print(f\"Accuracy: {(best_accuracy*100):>0.2f} %\",\"\\n\")\n",
        "\n",
        "\n",
        "print(\"Done!\")"
      ],
      "metadata": {
        "colab": {
          "base_uri": "https://localhost:8080/"
        },
        "id": "uB-epLbS_F9C",
        "outputId": "a48ce194-77e5-451d-eaca-fa57463ac5f7"
      },
      "execution_count": 28,
      "outputs": [
        {
          "output_type": "stream",
          "name": "stdout",
          "text": [
            "Epoch 1\n",
            "-----------------------------\n",
            "loss: 2.291992  [    0/60000]\n",
            "loss: 0.800195  [ 3200/60000]\n",
            "loss: 0.573896  [ 6400/60000]\n",
            "loss: 0.877636  [ 9600/60000]\n",
            "loss: 0.468881  [12800/60000]\n",
            "loss: 0.775308  [16000/60000]\n",
            "loss: 0.432055  [19200/60000]\n",
            "loss: 0.348213  [22400/60000]\n",
            "loss: 0.444109  [25600/60000]\n",
            "loss: 0.701740  [28800/60000]\n",
            "loss: 0.492138  [32000/60000]\n",
            "loss: 0.364145  [35200/60000]\n",
            "loss: 0.489401  [38400/60000]\n",
            "loss: 0.628469  [41600/60000]\n",
            "loss: 0.641915  [44800/60000]\n",
            "loss: 0.439922  [48000/60000]\n",
            "loss: 0.412546  [51200/60000]\n",
            "loss: 0.676265  [54400/60000]\n",
            "loss: 0.471279  [57600/60000]\n",
            "Test Results : \n",
            " Accuracy: 85.39%, Avg. Loss: 0.392345 \n",
            "\n",
            "New Best Model Found!\n",
            "=====================\n",
            "Accuracy: 85.39 % \n",
            "\n",
            "Epoch 2\n",
            "-----------------------------\n",
            "loss: 0.350216  [    0/60000]\n",
            "loss: 0.461888  [ 3200/60000]\n",
            "loss: 0.263428  [ 6400/60000]\n",
            "loss: 0.521550  [ 9600/60000]\n",
            "loss: 0.278628  [12800/60000]\n",
            "loss: 0.631944  [16000/60000]\n",
            "loss: 0.366047  [19200/60000]\n",
            "loss: 0.227923  [22400/60000]\n",
            "loss: 0.434671  [25600/60000]\n",
            "loss: 0.549975  [28800/60000]\n",
            "loss: 0.531275  [32000/60000]\n",
            "loss: 0.395139  [35200/60000]\n",
            "loss: 0.300061  [38400/60000]\n",
            "loss: 0.435706  [41600/60000]\n",
            "loss: 0.706887  [44800/60000]\n",
            "loss: 0.368577  [48000/60000]\n",
            "loss: 0.222415  [51200/60000]\n",
            "loss: 0.517408  [54400/60000]\n",
            "loss: 0.430407  [57600/60000]\n",
            "Test Results : \n",
            " Accuracy: 87.66%, Avg. Loss: 0.341713 \n",
            "\n",
            "New Best Model Found!\n",
            "=====================\n",
            "Accuracy: 87.66 % \n",
            "\n",
            "Epoch 3\n",
            "-----------------------------\n",
            "loss: 0.297227  [    0/60000]\n",
            "loss: 0.407062  [ 3200/60000]\n",
            "loss: 0.222314  [ 6400/60000]\n",
            "loss: 0.302036  [ 9600/60000]\n",
            "loss: 0.281774  [12800/60000]\n",
            "loss: 0.459455  [16000/60000]\n",
            "loss: 0.328442  [19200/60000]\n",
            "loss: 0.245459  [22400/60000]\n",
            "loss: 0.456594  [25600/60000]\n",
            "loss: 0.447389  [28800/60000]\n",
            "loss: 0.470533  [32000/60000]\n",
            "loss: 0.281591  [35200/60000]\n",
            "loss: 0.290064  [38400/60000]\n",
            "loss: 0.392828  [41600/60000]\n",
            "loss: 0.548371  [44800/60000]\n",
            "loss: 0.496411  [48000/60000]\n",
            "loss: 0.215016  [51200/60000]\n",
            "loss: 0.546148  [54400/60000]\n",
            "loss: 0.387678  [57600/60000]\n",
            "Test Results : \n",
            " Accuracy: 88.48%, Avg. Loss: 0.312227 \n",
            "\n",
            "New Best Model Found!\n",
            "=====================\n",
            "Accuracy: 88.48 % \n",
            "\n",
            "Epoch 4\n",
            "-----------------------------\n",
            "loss: 0.288655  [    0/60000]\n",
            "loss: 0.385637  [ 3200/60000]\n",
            "loss: 0.288092  [ 6400/60000]\n",
            "loss: 0.377593  [ 9600/60000]\n",
            "loss: 0.230246  [12800/60000]\n",
            "loss: 0.432484  [16000/60000]\n",
            "loss: 0.231757  [19200/60000]\n",
            "loss: 0.210716  [22400/60000]\n",
            "loss: 0.261041  [25600/60000]\n",
            "loss: 0.299747  [28800/60000]\n",
            "loss: 0.527409  [32000/60000]\n",
            "loss: 0.252022  [35200/60000]\n",
            "loss: 0.309156  [38400/60000]\n",
            "loss: 0.328658  [41600/60000]\n",
            "loss: 0.811595  [44800/60000]\n",
            "loss: 0.354798  [48000/60000]\n",
            "loss: 0.231435  [51200/60000]\n",
            "loss: 0.375579  [54400/60000]\n",
            "loss: 0.353619  [57600/60000]\n",
            "Test Results : \n",
            " Accuracy: 88.98%, Avg. Loss: 0.302512 \n",
            "\n",
            "New Best Model Found!\n",
            "=====================\n",
            "Accuracy: 88.98 % \n",
            "\n",
            "Epoch 5\n",
            "-----------------------------\n",
            "loss: 0.260508  [    0/60000]\n",
            "loss: 0.198787  [ 3200/60000]\n",
            "loss: 0.210908  [ 6400/60000]\n",
            "loss: 0.346530  [ 9600/60000]\n",
            "loss: 0.142512  [12800/60000]\n",
            "loss: 0.342782  [16000/60000]\n",
            "loss: 0.198910  [19200/60000]\n",
            "loss: 0.201540  [22400/60000]\n",
            "loss: 0.286562  [25600/60000]\n",
            "loss: 0.349101  [28800/60000]\n",
            "loss: 0.482363  [32000/60000]\n",
            "loss: 0.186035  [35200/60000]\n",
            "loss: 0.206318  [38400/60000]\n",
            "loss: 0.319326  [41600/60000]\n",
            "loss: 0.636207  [44800/60000]\n",
            "loss: 0.411655  [48000/60000]\n",
            "loss: 0.176478  [51200/60000]\n",
            "loss: 0.473868  [54400/60000]\n",
            "loss: 0.297076  [57600/60000]\n",
            "Test Results : \n",
            " Accuracy: 89.31%, Avg. Loss: 0.287178 \n",
            "\n",
            "New Best Model Found!\n",
            "=====================\n",
            "Accuracy: 89.31 % \n",
            "\n",
            "Epoch 6\n",
            "-----------------------------\n",
            "loss: 0.179184  [    0/60000]\n",
            "loss: 0.299770  [ 3200/60000]\n",
            "loss: 0.176470  [ 6400/60000]\n",
            "loss: 0.391461  [ 9600/60000]\n",
            "loss: 0.204349  [12800/60000]\n",
            "loss: 0.344624  [16000/60000]\n",
            "loss: 0.251167  [19200/60000]\n",
            "loss: 0.256464  [22400/60000]\n",
            "loss: 0.252248  [25600/60000]\n",
            "loss: 0.389838  [28800/60000]\n",
            "loss: 0.355694  [32000/60000]\n",
            "loss: 0.278664  [35200/60000]\n",
            "loss: 0.248829  [38400/60000]\n",
            "loss: 0.327122  [41600/60000]\n",
            "loss: 0.633974  [44800/60000]\n",
            "loss: 0.276414  [48000/60000]\n",
            "loss: 0.205315  [51200/60000]\n",
            "loss: 0.258754  [54400/60000]\n",
            "loss: 0.311287  [57600/60000]\n",
            "Test Results : \n",
            " Accuracy: 89.81%, Avg. Loss: 0.278047 \n",
            "\n",
            "New Best Model Found!\n",
            "=====================\n",
            "Accuracy: 89.81 % \n",
            "\n",
            "Epoch 7\n",
            "-----------------------------\n",
            "loss: 0.182796  [    0/60000]\n",
            "loss: 0.350959  [ 3200/60000]\n",
            "loss: 0.230755  [ 6400/60000]\n",
            "loss: 0.280110  [ 9600/60000]\n",
            "loss: 0.139884  [12800/60000]\n",
            "loss: 0.412401  [16000/60000]\n",
            "loss: 0.224338  [19200/60000]\n",
            "loss: 0.179322  [22400/60000]\n",
            "loss: 0.214732  [25600/60000]\n",
            "loss: 0.321401  [28800/60000]\n",
            "loss: 0.356378  [32000/60000]\n",
            "loss: 0.183024  [35200/60000]\n",
            "loss: 0.216224  [38400/60000]\n",
            "loss: 0.330410  [41600/60000]\n",
            "loss: 0.474806  [44800/60000]\n",
            "loss: 0.458395  [48000/60000]\n",
            "loss: 0.200399  [51200/60000]\n",
            "loss: 0.274659  [54400/60000]\n",
            "loss: 0.421378  [57600/60000]\n",
            "Test Results : \n",
            " Accuracy: 90.23%, Avg. Loss: 0.266297 \n",
            "\n",
            "New Best Model Found!\n",
            "=====================\n",
            "Accuracy: 90.23 % \n",
            "\n",
            "Epoch 8\n",
            "-----------------------------\n",
            "loss: 0.174038  [    0/60000]\n",
            "loss: 0.278533  [ 3200/60000]\n",
            "loss: 0.199354  [ 6400/60000]\n",
            "loss: 0.331771  [ 9600/60000]\n",
            "loss: 0.165933  [12800/60000]\n",
            "loss: 0.309349  [16000/60000]\n",
            "loss: 0.192055  [19200/60000]\n",
            "loss: 0.156654  [22400/60000]\n",
            "loss: 0.328798  [25600/60000]\n",
            "loss: 0.405769  [28800/60000]\n",
            "loss: 0.446589  [32000/60000]\n",
            "loss: 0.230317  [35200/60000]\n",
            "loss: 0.277409  [38400/60000]\n",
            "loss: 0.236426  [41600/60000]\n",
            "loss: 0.516792  [44800/60000]\n",
            "loss: 0.415329  [48000/60000]\n",
            "loss: 0.172193  [51200/60000]\n",
            "loss: 0.237113  [54400/60000]\n",
            "loss: 0.257177  [57600/60000]\n",
            "Test Results : \n",
            " Accuracy: 90.55%, Avg. Loss: 0.262917 \n",
            "\n",
            "New Best Model Found!\n",
            "=====================\n",
            "Accuracy: 90.55 % \n",
            "\n",
            "Epoch 9\n",
            "-----------------------------\n",
            "loss: 0.213106  [    0/60000]\n",
            "loss: 0.324825  [ 3200/60000]\n",
            "loss: 0.164971  [ 6400/60000]\n",
            "loss: 0.216204  [ 9600/60000]\n",
            "loss: 0.141049  [12800/60000]\n",
            "loss: 0.487990  [16000/60000]\n",
            "loss: 0.175228  [19200/60000]\n",
            "loss: 0.150636  [22400/60000]\n",
            "loss: 0.258578  [25600/60000]\n",
            "loss: 0.253477  [28800/60000]\n",
            "loss: 0.414800  [32000/60000]\n",
            "loss: 0.185452  [35200/60000]\n",
            "loss: 0.221039  [38400/60000]\n",
            "loss: 0.282812  [41600/60000]\n",
            "loss: 0.485674  [44800/60000]\n",
            "loss: 0.250534  [48000/60000]\n",
            "loss: 0.205683  [51200/60000]\n",
            "loss: 0.356921  [54400/60000]\n",
            "loss: 0.233116  [57600/60000]\n",
            "Test Results : \n",
            " Accuracy: 89.96%, Avg. Loss: 0.270320 \n",
            "\n",
            "Epoch 10\n",
            "-----------------------------\n",
            "loss: 0.178003  [    0/60000]\n",
            "loss: 0.245723  [ 3200/60000]\n",
            "loss: 0.136658  [ 6400/60000]\n",
            "loss: 0.372891  [ 9600/60000]\n",
            "loss: 0.139344  [12800/60000]\n",
            "loss: 0.291621  [16000/60000]\n",
            "loss: 0.166869  [19200/60000]\n",
            "loss: 0.223822  [22400/60000]\n",
            "loss: 0.164858  [25600/60000]\n",
            "loss: 0.174580  [28800/60000]\n",
            "loss: 0.417234  [32000/60000]\n",
            "loss: 0.241390  [35200/60000]\n",
            "loss: 0.168624  [38400/60000]\n",
            "loss: 0.411055  [41600/60000]\n",
            "loss: 0.466515  [44800/60000]\n",
            "loss: 0.358484  [48000/60000]\n",
            "loss: 0.135565  [51200/60000]\n",
            "loss: 0.259043  [54400/60000]\n",
            "loss: 0.250689  [57600/60000]\n",
            "Test Results : \n",
            " Accuracy: 90.73%, Avg. Loss: 0.257220 \n",
            "\n",
            "New Best Model Found!\n",
            "=====================\n",
            "Accuracy: 90.73 % \n",
            "\n",
            "Done!\n"
          ]
        }
      ]
    },
    {
      "cell_type": "code",
      "source": [
        "print(f\"Overall Best Model Accuracy: {(best_accuracy*100):>0.2f} %\",\"\\n\")"
      ],
      "metadata": {
        "colab": {
          "base_uri": "https://localhost:8080/"
        },
        "id": "ZENpTxWOgwVl",
        "outputId": "2e60a6b8-b868-4464-ccc0-cc94a541b687"
      },
      "execution_count": 29,
      "outputs": [
        {
          "output_type": "stream",
          "name": "stdout",
          "text": [
            "Overall Best Model Accuracy: 90.73 % \n",
            "\n"
          ]
        }
      ]
    },
    {
      "cell_type": "markdown",
      "source": [
        "#### Best Model Parameters"
      ],
      "metadata": {
        "id": "henvbcbujhbK"
      }
    },
    {
      "cell_type": "code",
      "source": [
        "def best_model_parameters(model_state_dict):\n",
        "\n",
        "    for name, param in model_state_dict.items():\n",
        "\n",
        "        if \"weight\" in name or \"bias\" in name:\n",
        "            print(f\"Parameter name: {name}\")\n",
        "            print(f\"Parameter shape: {param.shape}\")\n",
        "            print(f\"Parameter values: {param}\")\n",
        "            print(\"=\" * 100)\n",
        "\n",
        "        elif \"bn\" in name:\n",
        "            print(f\"Batch Normalization layer: {name}\")\n",
        "            print(f\"Layer parameters: {param}\")\n",
        "            print(\"=\" * 100)\n",
        "\n",
        "        elif \"dropout\" in name:\n",
        "            print(f\"Dropout layer: {name}\")\n",
        "            print(\"=\" * 100)"
      ],
      "metadata": {
        "id": "6Oe5pK81WYLK"
      },
      "execution_count": 30,
      "outputs": []
    },
    {
      "cell_type": "code",
      "source": [
        "model.load_state_dict(best_model_weights)\n",
        "best_model_parameters(model.state_dict())"
      ],
      "metadata": {
        "colab": {
          "base_uri": "https://localhost:8080/"
        },
        "id": "m55y8r2FYBUs",
        "outputId": "68889a84-8e1b-456b-9989-9be5f22d4ed5"
      },
      "execution_count": 31,
      "outputs": [
        {
          "output_type": "stream",
          "name": "stdout",
          "text": [
            "Parameter name: conv1.weight\n",
            "Parameter shape: torch.Size([32, 1, 3, 3])\n",
            "Parameter values: tensor([[[[-0.1211,  0.2987, -0.1672],\n",
            "          [-0.3997,  0.0712,  0.3297],\n",
            "          [-0.5104,  0.1693,  0.3336]]],\n",
            "\n",
            "\n",
            "        [[[-0.3863, -0.6935, -1.1315],\n",
            "          [ 0.0806, -0.0965, -0.3243],\n",
            "          [ 0.3787,  0.3700, -0.0459]]],\n",
            "\n",
            "\n",
            "        [[[ 0.1010,  0.0322, -0.1337],\n",
            "          [ 0.2454,  0.0788, -0.3255],\n",
            "          [-0.2333,  0.5770, -0.3447]]],\n",
            "\n",
            "\n",
            "        [[[-0.3784, -0.2041, -0.0794],\n",
            "          [-0.1144, -0.0196,  0.1355],\n",
            "          [ 0.4438,  0.2297, -0.0919]]],\n",
            "\n",
            "\n",
            "        [[[ 0.0028,  0.3288, -0.3087],\n",
            "          [-0.0782,  0.2439, -0.1571],\n",
            "          [ 0.1848,  0.2938, -0.4714]]],\n",
            "\n",
            "\n",
            "        [[[-0.0558, -0.2452, -1.0558],\n",
            "          [-0.0896, -0.6282, -1.2246],\n",
            "          [ 0.4087, -0.1205, -0.5752]]],\n",
            "\n",
            "\n",
            "        [[[ 0.2083, -0.4310, -0.0995],\n",
            "          [ 0.2753,  0.3490,  0.1845],\n",
            "          [-0.3603, -0.0980,  0.2301]]],\n",
            "\n",
            "\n",
            "        [[[-0.4246, -0.1638,  0.4903],\n",
            "          [-0.0581,  0.3351, -0.1354],\n",
            "          [-0.3299,  0.0413,  0.2976]]],\n",
            "\n",
            "\n",
            "        [[[ 0.2825, -0.2830,  0.0202],\n",
            "          [-0.2834,  0.3321,  0.0759],\n",
            "          [-0.4705,  0.2949,  0.1025]]],\n",
            "\n",
            "\n",
            "        [[[ 0.0555, -0.2971, -0.0244],\n",
            "          [ 0.0751, -0.0586, -0.3486],\n",
            "          [-0.0960,  0.3299,  0.3649]]],\n",
            "\n",
            "\n",
            "        [[[ 0.1831, -0.2754,  0.3103],\n",
            "          [ 0.0016, -0.0722,  0.3771],\n",
            "          [-0.2062, -0.1391,  0.3294]]],\n",
            "\n",
            "\n",
            "        [[[-0.1433,  0.2624,  0.3170],\n",
            "          [-0.4225, -0.1706,  0.4524],\n",
            "          [-0.2900, -0.2036,  0.2102]]],\n",
            "\n",
            "\n",
            "        [[[-0.6136, -1.2769, -1.1262],\n",
            "          [ 0.4159, -0.5688, -0.2801],\n",
            "          [ 0.2038,  0.0956,  0.1700]]],\n",
            "\n",
            "\n",
            "        [[[-0.4388,  0.3543,  0.0770],\n",
            "          [-0.5396,  0.3094,  0.2320],\n",
            "          [-0.2007,  0.2405, -0.0342]]],\n",
            "\n",
            "\n",
            "        [[[ 0.0186,  0.2994, -0.0041],\n",
            "          [-0.1196, -0.0993,  0.4313],\n",
            "          [-0.3171,  0.1329, -0.3253]]],\n",
            "\n",
            "\n",
            "        [[[-0.9840, -0.9252, -0.8152],\n",
            "          [-0.8945, -1.0011, -0.7918],\n",
            "          [-0.0403, -0.2180,  0.1043]]],\n",
            "\n",
            "\n",
            "        [[[-0.0760,  0.3924, -0.2661],\n",
            "          [ 0.4300, -0.1587,  0.3544],\n",
            "          [-0.5440, -0.2103, -0.1369]]],\n",
            "\n",
            "\n",
            "        [[[-0.0378, -0.0617,  0.2178],\n",
            "          [ 0.0496,  0.2632,  0.3074],\n",
            "          [-0.0985, -0.2288,  0.3239]]],\n",
            "\n",
            "\n",
            "        [[[-0.2959, -0.1572, -1.4689],\n",
            "          [ 0.3707,  0.3150, -0.3842],\n",
            "          [ 0.1957, -0.1992,  0.0814]]],\n",
            "\n",
            "\n",
            "        [[[-0.2374,  0.1637,  0.2031],\n",
            "          [-0.0717,  0.0459,  0.0626],\n",
            "          [-0.1240, -0.3862,  0.4318]]],\n",
            "\n",
            "\n",
            "        [[[ 0.2031,  0.3232,  0.0109],\n",
            "          [ 0.1361, -0.3230, -0.0768],\n",
            "          [-0.3164,  0.0441,  0.0616]]],\n",
            "\n",
            "\n",
            "        [[[ 0.0026,  0.3263,  0.4714],\n",
            "          [-0.0407, -0.0244,  0.1425],\n",
            "          [ 0.0370, -0.4022, -0.5343]]],\n",
            "\n",
            "\n",
            "        [[[ 0.1762, -0.3380,  0.2683],\n",
            "          [ 0.2147, -0.6578, -0.3834],\n",
            "          [ 0.2301,  0.2930,  0.1282]]],\n",
            "\n",
            "\n",
            "        [[[-0.3340,  0.3086,  0.0499],\n",
            "          [-0.4823,  0.5800, -0.1242],\n",
            "          [ 0.0217, -0.0881,  0.0725]]],\n",
            "\n",
            "\n",
            "        [[[-0.3940,  0.4008, -0.1279],\n",
            "          [-0.0468, -0.1681, -0.1784],\n",
            "          [ 0.4763, -0.2685,  0.2821]]],\n",
            "\n",
            "\n",
            "        [[[-0.6883, -0.6605, -0.3056],\n",
            "          [-0.8198, -0.7174, -0.9385],\n",
            "          [-0.6353, -0.7441, -0.5031]]],\n",
            "\n",
            "\n",
            "        [[[ 0.3155, -0.0107,  0.2866],\n",
            "          [ 0.1212, -0.2048, -0.1533],\n",
            "          [-0.3625, -0.9682, -0.1456]]],\n",
            "\n",
            "\n",
            "        [[[ 0.0320, -0.0379, -0.2737],\n",
            "          [ 0.1923, -0.0649, -0.0691],\n",
            "          [ 0.1864,  0.2720,  0.2655]]],\n",
            "\n",
            "\n",
            "        [[[-0.0193, -0.0735, -0.3449],\n",
            "          [-0.2741, -0.3707,  0.2527],\n",
            "          [ 0.2814,  0.2846,  0.1631]]],\n",
            "\n",
            "\n",
            "        [[[ 0.3117, -0.0172, -0.4542],\n",
            "          [ 0.3064, -0.3812,  0.0537],\n",
            "          [ 0.1870,  0.0279, -0.2528]]],\n",
            "\n",
            "\n",
            "        [[[-0.3305, -0.9640, -1.0171],\n",
            "          [-0.2032, -1.0124, -0.9003],\n",
            "          [ 0.2773, -0.0827,  0.0027]]],\n",
            "\n",
            "\n",
            "        [[[ 0.1774, -0.1460,  0.0171],\n",
            "          [ 0.3175,  0.1962, -0.5118],\n",
            "          [ 0.5322, -0.1389, -0.3927]]]], device='cuda:0')\n",
            "====================================================================================================\n",
            "Parameter name: conv1.bias\n",
            "Parameter shape: torch.Size([32])\n",
            "Parameter values: tensor([-0.0012,  0.0872, -0.0109, -0.0134, -0.0188,  0.2424, -0.2209, -0.0045,\n",
            "        -0.0348, -0.0186, -0.3675, -0.0168,  0.1710, -0.0079, -0.0110,  0.3394,\n",
            "         0.0628, -0.5009,  0.1088, -0.0612, -0.0118, -0.0015, -0.0207, -0.0064,\n",
            "        -0.0030,  0.3355,  0.2256, -0.2664, -0.0111,  0.0683,  0.2960, -0.0434],\n",
            "       device='cuda:0')\n",
            "====================================================================================================\n",
            "Parameter name: conv2.weight\n",
            "Parameter shape: torch.Size([64, 32, 3, 3])\n",
            "Parameter values: tensor([[[[-0.0764, -0.0053,  0.0269],\n",
            "          [-0.1544, -0.0308, -0.0257],\n",
            "          [-0.1855, -0.0859, -0.1300]],\n",
            "\n",
            "         [[-0.0937, -0.0859, -0.0821],\n",
            "          [-0.0454, -0.0319, -0.0540],\n",
            "          [-0.0044,  0.0514,  0.0219]],\n",
            "\n",
            "         [[-0.1218,  0.0751, -0.0180],\n",
            "          [-0.1898,  0.0589,  0.0210],\n",
            "          [-0.2321, -0.1230, -0.0530]],\n",
            "\n",
            "         ...,\n",
            "\n",
            "         [[ 0.0295,  0.0350, -0.0442],\n",
            "          [-0.0175, -0.0351, -0.0152],\n",
            "          [-0.0832, -0.0592, -0.0164]],\n",
            "\n",
            "         [[-0.1646, -0.0195, -0.0254],\n",
            "          [-0.0974, -0.0146, -0.0248],\n",
            "          [-0.0448,  0.0513,  0.0319]],\n",
            "\n",
            "         [[-0.2003, -0.0591,  0.0266],\n",
            "          [-0.2555, -0.1510,  0.0949],\n",
            "          [-0.2700, -0.2373, -0.0247]]],\n",
            "\n",
            "\n",
            "        [[[-0.1090, -0.2330,  0.0167],\n",
            "          [ 0.0484, -0.0899, -0.1766],\n",
            "          [-0.0924, -0.1819,  0.0216]],\n",
            "\n",
            "         [[ 0.0235,  0.0205,  0.1404],\n",
            "          [ 0.0734,  0.0219,  0.1421],\n",
            "          [ 0.0057, -0.3001, -0.2880]],\n",
            "\n",
            "         [[ 0.0341, -0.2981, -0.5204],\n",
            "          [-0.0372, -0.3729, -0.4704],\n",
            "          [ 0.1602,  0.0289, -0.0830]],\n",
            "\n",
            "         ...,\n",
            "\n",
            "         [[ 0.1021,  0.1213, -0.1614],\n",
            "          [-0.1022, -0.0954, -0.1929],\n",
            "          [-0.1197, -0.0054, -0.1149]],\n",
            "\n",
            "         [[ 0.0688,  0.1703,  0.1178],\n",
            "          [ 0.0781,  0.0928, -0.1190],\n",
            "          [-0.3247, -0.2620, -0.2561]],\n",
            "\n",
            "         [[-0.0851, -0.1627, -0.7289],\n",
            "          [-0.1035, -0.3204, -0.5199],\n",
            "          [-0.0774, -0.0299,  0.0087]]],\n",
            "\n",
            "\n",
            "        [[[-0.0077, -0.1535,  0.0916],\n",
            "          [ 0.1755, -0.1659,  0.1196],\n",
            "          [ 0.0153, -0.0934, -0.1661]],\n",
            "\n",
            "         [[ 0.1846, -0.0137, -0.0332],\n",
            "          [-0.0879,  0.0031, -0.0356],\n",
            "          [ 0.0060,  0.0668, -0.0662]],\n",
            "\n",
            "         [[ 0.1812, -0.2535, -0.1918],\n",
            "          [-0.1076,  0.0767, -0.4441],\n",
            "          [-0.1516, -0.0318, -0.1281]],\n",
            "\n",
            "         ...,\n",
            "\n",
            "         [[ 0.1425, -0.0404, -0.2058],\n",
            "          [ 0.0521, -0.0735, -0.2419],\n",
            "          [-0.0448, -0.0418, -0.0415]],\n",
            "\n",
            "         [[ 0.1559,  0.1088,  0.1254],\n",
            "          [-0.0876,  0.1145, -0.0587],\n",
            "          [-0.2773, -0.0822,  0.0174]],\n",
            "\n",
            "         [[ 0.0394, -0.0157, -0.2868],\n",
            "          [-0.0526,  0.0218, -0.2770],\n",
            "          [-0.0807, -0.0055, -0.1919]]],\n",
            "\n",
            "\n",
            "        ...,\n",
            "\n",
            "\n",
            "        [[[ 0.0094,  0.0075, -0.0048],\n",
            "          [-0.0183,  0.0217, -0.0394],\n",
            "          [ 0.0227,  0.0033,  0.1101]],\n",
            "\n",
            "         [[ 0.0192, -0.0082,  0.0923],\n",
            "          [-0.1153, -0.0751, -0.0867],\n",
            "          [ 0.1456,  0.1153, -0.0869]],\n",
            "\n",
            "         [[ 0.2166,  0.1076,  0.0420],\n",
            "          [ 0.1153,  0.1339,  0.0253],\n",
            "          [ 0.4440,  0.0994, -0.0096]],\n",
            "\n",
            "         ...,\n",
            "\n",
            "         [[-0.0468,  0.0774, -0.1769],\n",
            "          [ 0.0561,  0.0085, -0.1584],\n",
            "          [ 0.0768,  0.0804, -0.3346]],\n",
            "\n",
            "         [[-0.1442, -0.0589, -0.0218],\n",
            "          [-0.1161, -0.0084, -0.1777],\n",
            "          [-0.0873, -0.0229, -0.2232]],\n",
            "\n",
            "         [[ 0.0627,  0.1934, -0.0857],\n",
            "          [-0.0107, -0.0710, -0.1470],\n",
            "          [ 0.1188,  0.0312, -0.1625]]],\n",
            "\n",
            "\n",
            "        [[[ 0.0368,  0.0440, -0.0073],\n",
            "          [ 0.0515,  0.0521,  0.0239],\n",
            "          [-0.0214, -0.0137,  0.0083]],\n",
            "\n",
            "         [[-0.2109, -0.2935,  0.0497],\n",
            "          [-0.0589, -0.1779,  0.0602],\n",
            "          [-0.1207,  0.0297,  0.0613]],\n",
            "\n",
            "         [[-0.1771,  0.0496,  0.1102],\n",
            "          [ 0.0659,  0.0318, -0.0907],\n",
            "          [ 0.1055, -0.0714, -0.1979]],\n",
            "\n",
            "         ...,\n",
            "\n",
            "         [[-0.2078,  0.0129,  0.1837],\n",
            "          [ 0.0331,  0.2252,  0.0307],\n",
            "          [ 0.1452,  0.0083, -0.2438]],\n",
            "\n",
            "         [[ 0.0488, -0.3329,  0.0788],\n",
            "          [-0.1097,  0.0400,  0.0562],\n",
            "          [-0.1506,  0.1451, -0.0958]],\n",
            "\n",
            "         [[-0.0727,  0.1559,  0.1215],\n",
            "          [ 0.1679,  0.1730, -0.1005],\n",
            "          [ 0.0620, -0.0214, -0.1897]]],\n",
            "\n",
            "\n",
            "        [[[-0.2609,  0.1944, -0.1125],\n",
            "          [-0.1355,  0.0413,  0.0179],\n",
            "          [-0.0857, -0.1279,  0.0749]],\n",
            "\n",
            "         [[ 0.1766, -0.0692, -0.0881],\n",
            "          [-0.0108,  0.0009, -0.0589],\n",
            "          [ 0.0246,  0.0549,  0.1153]],\n",
            "\n",
            "         [[ 0.2566, -0.2055,  0.0040],\n",
            "          [ 0.0748, -0.1583,  0.0277],\n",
            "          [ 0.1270, -0.1092, -0.0884]],\n",
            "\n",
            "         ...,\n",
            "\n",
            "         [[ 0.1418, -0.0883,  0.0382],\n",
            "          [ 0.0297,  0.0497, -0.1407],\n",
            "          [ 0.1943,  0.1966, -0.1624]],\n",
            "\n",
            "         [[ 0.0387, -0.0422, -0.1681],\n",
            "          [ 0.0867,  0.0550, -0.0882],\n",
            "          [-0.1185,  0.0692,  0.0770]],\n",
            "\n",
            "         [[ 0.1007,  0.0602, -0.0991],\n",
            "          [ 0.1146,  0.0733, -0.0947],\n",
            "          [ 0.1860,  0.1268, -0.1744]]]], device='cuda:0')\n",
            "====================================================================================================\n",
            "Parameter name: conv2.bias\n",
            "Parameter shape: torch.Size([64])\n",
            "Parameter values: tensor([ 1.0132e-01,  5.7913e-01, -7.5897e-02, -1.0803e-01,  1.6258e-01,\n",
            "         1.6382e-01, -2.5632e-01, -9.8991e-02,  6.4690e-02,  1.8125e-01,\n",
            "        -2.4196e-01,  2.1111e-01, -9.6017e-02,  5.9644e-02,  4.3585e-01,\n",
            "         4.9088e-02,  2.5856e-02,  3.8871e-01,  3.6200e-02, -4.8810e-02,\n",
            "         4.6433e-01, -2.1340e-01,  8.6576e-02, -1.9555e-01, -5.7940e-02,\n",
            "        -1.4413e-02,  3.0683e-01,  1.3397e-01,  2.4315e-02,  3.3964e-01,\n",
            "        -3.8218e-02, -2.0208e-01, -7.1450e-05, -4.5723e-05, -3.5347e-01,\n",
            "        -1.0671e-01,  2.7494e-01, -1.2810e-13,  7.6861e-05, -4.1118e-01,\n",
            "        -7.2404e-02,  5.8075e-02,  6.7965e-02, -1.5931e-03,  8.7679e-03,\n",
            "         1.6175e-01,  1.5811e-02, -3.0609e-02, -2.0746e-03, -2.6124e-01,\n",
            "         3.4205e-02, -2.9868e-01, -3.8999e-02, -2.1016e-01,  6.3209e-02,\n",
            "         7.4995e-02, -3.0122e-02,  5.3662e-03,  4.5960e-01,  1.8561e-01,\n",
            "        -1.2853e-01, -2.4165e-01,  1.6903e-02, -3.3457e-02], device='cuda:0')\n",
            "====================================================================================================\n",
            "Parameter name: fc1.weight\n",
            "Parameter shape: torch.Size([128, 1600])\n",
            "Parameter values: tensor([[-3.6467e-17,  2.1770e-02,  7.5359e-05,  ..., -2.8306e-02,\n",
            "          5.2813e-02, -5.4598e-02],\n",
            "        [ 2.0931e-40,  1.0345e-40, -6.2673e-41,  ..., -4.8465e-25,\n",
            "         -3.2812e-17, -2.2207e-11],\n",
            "        [-5.7302e-41,  4.1708e-41, -1.9770e-41,  ...,  4.2824e-42,\n",
            "          3.0799e-12, -1.5593e-11],\n",
            "        ...,\n",
            "        [-1.5139e-40,  1.3550e-10, -6.1557e-11,  ..., -3.8027e-08,\n",
            "          1.3578e-10, -7.3842e-03],\n",
            "        [ 1.0955e-41,  7.2397e-41,  5.1069e-41,  ..., -9.8854e-25,\n",
            "         -1.0061e-24, -1.9860e-20],\n",
            "        [-4.5277e-09, -4.3626e-03, -2.1069e-02,  ..., -1.7318e-02,\n",
            "         -3.5042e-02,  1.1887e-01]], device='cuda:0')\n",
            "====================================================================================================\n",
            "Parameter name: fc1.bias\n",
            "Parameter shape: torch.Size([128])\n",
            "Parameter values: tensor([ 2.5711e-02, -1.6211e-04, -2.3548e-08,  2.8205e-03, -1.4431e-09,\n",
            "        -7.5767e-03, -2.1429e-03, -2.6327e-02, -2.3375e-02,  4.7693e-03,\n",
            "         4.3832e-02,  1.5180e-01,  2.7494e-02,  8.1440e-02,  4.9529e-02,\n",
            "        -8.3554e-04, -5.3334e-02,  5.3047e-02, -5.7796e-02,  6.7624e-02,\n",
            "        -9.1414e-03,  6.8527e-02,  9.2454e-02, -2.6330e-02,  2.5294e-02,\n",
            "         3.9105e-02, -8.3125e-03, -1.0726e-02, -3.8919e-20,  8.6831e-02,\n",
            "         1.9298e-02, -2.2256e-02, -2.1112e-03, -9.4287e-02, -5.0386e-02,\n",
            "        -1.0372e-09, -3.0992e-03, -2.9278e-04,  2.9637e-02,  4.0759e-02,\n",
            "         1.6305e-01,  3.6217e-02, -1.2088e-04, -1.1788e-06, -1.2588e-02,\n",
            "        -6.1780e-03,  5.8665e-03, -5.0871e-03,  5.0388e-02, -3.8006e-02,\n",
            "         6.2258e-02,  4.7364e-02, -4.0940e-02,  8.8847e-02, -2.9703e-04,\n",
            "        -2.2479e-23,  1.1389e-01, -2.7369e-04, -9.6505e-03, -1.5237e-02,\n",
            "         1.1933e-01,  3.2373e-02, -5.1891e-03, -1.1786e-02, -4.8416e-02,\n",
            "        -9.6006e-10, -3.3832e-03, -5.3197e-27,  6.2544e-03, -4.0566e-02,\n",
            "        -1.3944e-02, -1.4046e-02, -2.8671e-02, -2.1118e-02, -7.8926e-09,\n",
            "         3.6225e-02,  6.5057e-02, -1.1200e-09, -2.0801e-03,  5.8474e-02,\n",
            "        -1.6402e-03, -1.2732e-03,  1.6014e-01,  1.0323e-01, -7.2271e-04,\n",
            "         3.9081e-02, -2.6921e-02, -1.5387e-02, -5.0001e-15, -2.9551e-06,\n",
            "        -6.1657e-05,  1.3835e-01,  4.0664e-03, -3.9294e-02, -2.4312e-02,\n",
            "        -1.6241e-05, -5.7457e-02, -1.6614e-04, -1.3742e-12, -3.3243e-03,\n",
            "        -6.8004e-04,  4.3015e-02, -6.7819e-03,  2.9813e-02, -5.6299e-03,\n",
            "        -1.0397e-01, -2.3554e-02, -2.3789e-07,  2.1373e-02, -7.6284e-05,\n",
            "         1.1562e-03,  1.2111e-01, -8.7509e-06,  6.9971e-02, -2.4432e-05,\n",
            "        -2.3675e-11, -1.6528e-02,  9.7332e-02,  2.7897e-02,  9.0693e-03,\n",
            "        -1.0918e-26,  1.3361e-01, -3.6091e-09, -1.0753e-05,  1.9784e-01,\n",
            "        -1.7823e-02, -1.8062e-10, -6.3606e-03], device='cuda:0')\n",
            "====================================================================================================\n",
            "Parameter name: fc2.weight\n",
            "Parameter shape: torch.Size([10, 128])\n",
            "Parameter values: tensor([[-1.6114e-01,  1.0206e-02, -2.0793e-03,  ...,  3.9748e-02,\n",
            "          8.0216e-03, -3.3793e-01],\n",
            "        [-4.3929e-01,  1.1359e-02, -1.0709e-02,  ..., -5.5054e-02,\n",
            "         -6.4712e-04,  1.6153e-01],\n",
            "        [-5.1853e-01, -1.3607e-02,  4.0004e-03,  ...,  6.1749e-03,\n",
            "         -6.8040e-03, -2.3195e-01],\n",
            "        ...,\n",
            "        [ 1.3280e-01,  7.3878e-03,  6.4063e-04,  ...,  1.8769e-02,\n",
            "          9.0341e-03,  8.9370e-02],\n",
            "        [-4.7418e-01, -2.1885e-02, -1.5610e-03,  ..., -1.8182e-02,\n",
            "         -1.6443e-05,  2.8429e-01],\n",
            "        [ 1.2774e-01, -2.1751e-03, -4.5395e-04,  ..., -3.4151e-02,\n",
            "         -1.3669e-02, -1.2003e-01]], device='cuda:0')\n",
            "====================================================================================================\n",
            "Parameter name: fc2.bias\n",
            "Parameter shape: torch.Size([10])\n",
            "Parameter values: tensor([-0.1364, -0.2114, -0.0873,  0.1834, -0.0722, -0.2643,  0.1061,  0.0141,\n",
            "         0.0240, -0.0349], device='cuda:0')\n",
            "====================================================================================================\n"
          ]
        }
      ]
    },
    {
      "cell_type": "markdown",
      "source": [
        "### Task 03 : Class-wise Performance"
      ],
      "metadata": {
        "id": "Q88RtJ05SBeh"
      }
    },
    {
      "cell_type": "code",
      "execution_count": 32,
      "metadata": {
        "id": "7KvhRfyCy8Ya"
      },
      "outputs": [],
      "source": [
        "def classwise_performance(dataloader, model):\n",
        "\n",
        "    class_correct = [0] * 10\n",
        "    class_total = [0] * 10\n",
        "    all_true_labels = []\n",
        "    all_predicted_labels =  []\n",
        "\n",
        "    model.eval()\n",
        "\n",
        "    with torch.no_grad():\n",
        "        for X, y in dataloader:\n",
        "            X, y = X.to(device), y.to(device)\n",
        "            pred = model(X)\n",
        "            predicted_classes = pred.argmax(1)\n",
        "\n",
        "            for i in range(len(y)):\n",
        "                true_class = y[i].item()\n",
        "                predicted_class = predicted_classes[i].item()\n",
        "                all_true_labels.append(true_class)\n",
        "                all_predicted_labels.append(predicted_class)\n",
        "                if true_class == predicted_class:\n",
        "                    class_correct[true_class] += 1\n",
        "                class_total[true_class] += 1\n",
        "\n",
        "    j = 0\n",
        "    for class_idx in range(10):\n",
        "        class_name = test_data.classes[class_idx]\n",
        "        accuracy = 100 * class_correct[class_idx] / class_total[class_idx]\n",
        "        print(f\"Class {j} : Accuracy {accuracy:.2f}% ({class_correct[class_idx]}/{class_total[class_idx]})\")\n",
        "        j += 1\n",
        "\n",
        "    return all_true_labels, all_predicted_labels"
      ]
    },
    {
      "cell_type": "code",
      "source": [
        "print(\"Class-wise Performance :\\n\",'='*len(\"Class-wise Performance :\"),sep='')\n",
        "model.load_state_dict(best_model_weights)\n",
        "true, predicted = classwise_performance(test_dataloader, model)"
      ],
      "metadata": {
        "colab": {
          "base_uri": "https://localhost:8080/"
        },
        "id": "Oaxj4nllJb6W",
        "outputId": "21ab68a9-4515-4fe0-b934-41631cfdcfa4"
      },
      "execution_count": 33,
      "outputs": [
        {
          "output_type": "stream",
          "name": "stdout",
          "text": [
            "Class-wise Performance :\n",
            "========================\n",
            "Class 0 : Accuracy 88.80% (888/1000)\n",
            "Class 1 : Accuracy 97.60% (976/1000)\n",
            "Class 2 : Accuracy 81.70% (817/1000)\n",
            "Class 3 : Accuracy 92.20% (922/1000)\n",
            "Class 4 : Accuracy 87.00% (870/1000)\n",
            "Class 5 : Accuracy 97.40% (974/1000)\n",
            "Class 6 : Accuracy 72.20% (722/1000)\n",
            "Class 7 : Accuracy 97.80% (978/1000)\n",
            "Class 8 : Accuracy 97.80% (978/1000)\n",
            "Class 9 : Accuracy 94.80% (948/1000)\n"
          ]
        }
      ]
    },
    {
      "cell_type": "code",
      "source": [
        "import matplotlib.pyplot as plt\n",
        "from sklearn.metrics import confusion_matrix\n",
        "import seaborn as sns"
      ],
      "metadata": {
        "id": "tZqeSI28a-7m"
      },
      "execution_count": 34,
      "outputs": []
    },
    {
      "cell_type": "code",
      "source": [
        "def plot_confusion_matrix(all_true_labels, all_predicted_labels):\n",
        "\n",
        "    true, pred = all_true_labels, all_predicted_labels\n",
        "\n",
        "    conf_matrix = confusion_matrix(true, pred)\n",
        "\n",
        "    plt.figure(figsize=(16, 12))\n",
        "    sns.heatmap(conf_matrix, annot=True, fmt=\"d\", cmap=\"Blues\", xticklabels=test_data.classes, yticklabels=test_data.classes)\n",
        "    plt.xlabel(\"\\nPredicted Label\\n\")\n",
        "    plt.ylabel(\"\\nTrue Label\\n\")\n",
        "    plt.title(\"\\n\\nConfusion Matrix\\n\\n\")\n",
        "    plt.show()"
      ],
      "metadata": {
        "id": "yG7dMJPIbCUX"
      },
      "execution_count": 35,
      "outputs": []
    },
    {
      "cell_type": "code",
      "source": [
        "plot_confusion_matrix(true, predicted)"
      ],
      "metadata": {
        "colab": {
          "base_uri": "https://localhost:8080/",
          "height": 1000
        },
        "id": "XzNAqtPwbGNP",
        "outputId": "ccb3f169-94e6-4f5a-9551-6dd55ee73b05"
      },
      "execution_count": 36,
      "outputs": [
        {
          "output_type": "display_data",
          "data": {
            "text/plain": [
              "<Figure size 1600x1200 with 2 Axes>"
            ],
            "image/png": "[encoded data removed]"
          },
          "metadata": {}
        }
      ]
    }
  ],
  "metadata": {
    "colab": {
      "provenance": [],
      "gpuType": "T4"
    },
    "kernelspec": {
      "display_name": "Python 3",
      "name": "python3"
    },
    "language_info": {
      "name": "python"
    },
    "accelerator": "GPU"
  },
  "nbformat": 4,
  "nbformat_minor": 0
}